{
  "cells": [
    {
      "cell_type": "markdown",
      "metadata": {
        "id": "GyZDj_2YL_gu"
      },
      "source": [
        "# Day 3: Python Loops, Functions, and Basic Algorithms\n",
        "## Instructions & Exercises\n",
        "\n",
        "Welcome to Day 3! Today you will practice writing loops, organizing code with functions, and implementing simple algorithms. We build on Days 1–2 and do not repeat earlier topics.\n",
        "\n",
        "---\n"
      ]
    },
    {
      "cell_type": "markdown",
      "metadata": {
        "id": "H6LI5n5DL_gv"
      },
      "source": [
        "## 🎯 Learning Objectives\n",
        "\n",
        "By the end of this lesson, you will be able to:\n",
        "1. Use `for` and `while` loops to iterate and control repetition\n",
        "2. Define and call functions with parameters and return values\n",
        "3. Implement simple algorithms (linear search, max) using loops and functions\n",
        "\n",
        "---\n"
      ]
    },
    {
      "cell_type": "markdown",
      "metadata": {
        "id": "ZTQ1JMG6L_gw"
      },
      "source": [
        "## 🔁 Section 1: Loops\n",
        "\n",
        "### Exercise 1.1: For Loop — Sales Summary\n",
        "Given `sales = [120, 98, 145, 130, 160, 150]`:\n",
        "1. Use a `for` loop to compute `total`\n",
        "2. Compute `average` using `total` and `len`\n",
        "3. Print `min`, `max`, and `average` (rounded to 2 decimals)"
      ]
    },
    {
      "cell_type": "code",
      "execution_count": 1,
      "metadata": {
        "colab": {
          "base_uri": "https://localhost:8080/"
        },
        "id": "ATNsg5u7L_gw",
        "outputId": "5f42dd71-c92e-4a91-f275-32998107a85b"
      },
      "outputs": [
        {
          "output_type": "stream",
          "name": "stdout",
          "text": [
            "98 160 133.83\n"
          ]
        }
      ],
      "source": [
        "# Exercise 1.1: Your code here\n",
        "\n",
        "sales = [120, 98, 145, 130, 160, 150]\n",
        "total = 0\n",
        "\n",
        "for sale in sales:\n",
        "  total += sale\n",
        "\n",
        "average = total / len(sales)\n",
        "\n",
        "print(min(sales), max(sales), round(average,2))"
      ]
    },
    {
      "cell_type": "markdown",
      "metadata": {
        "id": "-QoSLkxNL_gw"
      },
      "source": [
        "### Exercise 1.2: While Loop — Savings Simulator\n",
        "Simulate saving money until a goal is reached.\n",
        "- Start with `balance = 0`\n",
        "- Each month add `deposit = 250`\n",
        "- Stop when `balance >= goal` where `goal = 2000`\n",
        "- Count months and print the final `balance` and `months`\n",
        "\n"
      ]
    },
    {
      "cell_type": "code",
      "execution_count": 7,
      "metadata": {
        "colab": {
          "base_uri": "https://localhost:8080/"
        },
        "id": "MfZL7ZokL_gx",
        "outputId": "0ad54a6e-c7d2-4b86-d9a7-1f66a3335959"
      },
      "outputs": [
        {
          "output_type": "stream",
          "name": "stdout",
          "text": [
            "Goal reached! Current balance: $2000, It took you 8 months to complete\n"
          ]
        }
      ],
      "source": [
        "# Exercise 1.2: Your code here\n",
        "\n",
        "balance = 0\n",
        "deposit = 250\n",
        "goal = 2000\n",
        "months = 0\n",
        "\n",
        "while balance < goal:\n",
        "    balance += deposit\n",
        "    months += 1\n",
        "\n",
        "print(f'Goal reached! Current balance: ${balance}, It took you {months} months to complete')\n",
        "\n"
      ]
    },
    {
      "cell_type": "markdown",
      "metadata": {
        "id": "gcDQ43PXL_gx"
      },
      "source": [
        "\n",
        "### Exercise 1.3: Loop Patterns — Filter and Transform\n",
        "Given `temperatures = [72, 65, 88, 90, 67, 73, 85]`:\n",
        "1. Build a new list `hot_days` containing temps >= 80 (using a loop)\n",
        "2. Build `celsius` list converting each temp to Celsius: `(f - 32) * 5/9`"
      ]
    },
    {
      "cell_type": "code",
      "execution_count": 31,
      "metadata": {
        "colab": {
          "base_uri": "https://localhost:8080/"
        },
        "id": "pMmq17NBL_gx",
        "outputId": "510ffb51-448b-4653-d96d-00459d1df042"
      },
      "outputs": [
        {
          "output_type": "stream",
          "name": "stdout",
          "text": [
            "Hot days [88, 90, 85] Celsius [22.22, 18.33, 31.11, 32.22, 19.44, 22.78, 29.44]\n"
          ]
        }
      ],
      "source": [
        "# Exercise 1.3: Your code here\n",
        "\n",
        "temperatures = [72, 65, 88, 90, 67, 73, 85]\n",
        "\n",
        "hot_days = []\n",
        "for temp in temperatures:\n",
        "  if temp >= 80:\n",
        "    hot_days.append(temp)\n",
        "\n",
        "celsius_temp = []\n",
        "for temp in temperatures:\n",
        "  rounded = round((temp - 32)* 5/9, 2)\n",
        "  celsius_temp.append(rounded)\n",
        "\n",
        "print(f'Hot days {hot_days} Celsius {celsius_temp}')\n",
        "\n"
      ]
    },
    {
      "cell_type": "markdown",
      "metadata": {
        "id": "BNEMlYeuL_gx"
      },
      "source": [
        "---\n",
        "\n",
        "## 🧩 Section 2: Functions\n",
        "\n",
        "### Exercise 2.1: Summary Statistics Function\n",
        "Write a function `summary_stats(numbers)` that returns a dictionary with `min`, `max`, and `mean` (rounded to 2 decimals) for a list of numbers. Test with `sales` from Exercise 1.1."
      ]
    },
    {
      "cell_type": "code",
      "execution_count": 1,
      "metadata": {
        "colab": {
          "base_uri": "https://localhost:8080/"
        },
        "id": "sNfsP5ybL_gx",
        "outputId": "cd9eb789-ea7c-40e2-d764-f44dd8fbafc3"
      },
      "outputs": [
        {
          "output_type": "stream",
          "name": "stdout",
          "text": [
            "Summary -> Min: 98, Max: 160, Avg: 133.83\n",
            "Default discount: $95.0\n",
            "Custom 12% discount: $88.0\n"
          ]
        }
      ],
      "source": [
        "# Exercise 2.1: Your code here\n",
        "\n",
        "sales = [120, 98, 145, 130, 160, 150]\n",
        "\n",
        "def summary_stats(numbers):\n",
        "    return {\n",
        "        \"min\": min(numbers),\n",
        "        \"max\": max(numbers),\n",
        "        \"mean\": round(sum(numbers) / len(numbers), 2)\n",
        "    }\n",
        "\n",
        "stats = summary_stats(sales)\n",
        "print(f\"Summary -> Min: {stats['min']}, Max: {stats['max']}, Avg: {stats['mean']}\")"
      ]
    },
    {
      "cell_type": "markdown",
      "metadata": {
        "id": "FvfGPZ_QL_gy"
      },
      "source": [
        "### Exercise 2.2: Parameter Defaults\n",
        "Write `apply_discount` that returns the discounted amount and uses a 5% default value for discount. Test with two calls: one using the default, one passing `rate=0.12`. (price = $100.00)"
      ]
    },
    {
      "cell_type": "code",
      "execution_count": 2,
      "metadata": {
        "colab": {
          "base_uri": "https://localhost:8080/"
        },
        "id": "Ig81txbNL_gy",
        "outputId": "533b933d-ff8e-4e63-e806-c47b47d5e51d"
      },
      "outputs": [
        {
          "output_type": "stream",
          "name": "stdout",
          "text": [
            "Default discount: $95.0\n",
            "Custom 12% discount: $88.0\n"
          ]
        }
      ],
      "source": [
        "# Exercise 2.2: Your code here\n",
        "\n",
        "def apply_discount(price, rate=0.05):\n",
        "    return round(price * (1 - rate), 2)\n",
        "\n",
        "amount = 100.00\n",
        "print(f\"Default discount: ${apply_discount(amount)}\")\n",
        "print(f\"Custom 12% discount: ${apply_discount(amount, rate=0.12)}\")"
      ]
    },
    {
      "cell_type": "markdown",
      "metadata": {
        "id": "QbClrZ1ZL_gy"
      },
      "source": [
        "### Exercise 2.3: Pure Function vs. Side Effects\n",
        "A pure function is a function that:\n",
        "\n",
        "* Always gives the same output for the same inputs.\n",
        "* Does not change anything outside the function (it does not modify variables, lists, or other data that were created outside of it).\n",
        "\n",
        "External state means any variable, object, or data structure that exists outside the function — for example, a list or variable defined before the function is called. If a function changes this external state, it has a side effect.\n",
        "\n",
        "Your task:\n",
        "1. Write a function add_points(current, points) that returns a new total score.\n",
        "\n",
        "2. Write a function append_note(notes, msg) that takes a list of notes and a message, and appends the message to the list.\n",
        "\n",
        "3. Explain which function is pure and why."
      ]
    },
    {
      "cell_type": "code",
      "execution_count": 3,
      "metadata": {
        "colab": {
          "base_uri": "https://localhost:8080/"
        },
        "id": "4ig1TMUML_gy",
        "outputId": "f0b444ef-4be3-4a64-ca11-7b4024cf3276"
      },
      "outputs": [
        {
          "output_type": "stream",
          "name": "stdout",
          "text": [
            "70\n",
            "['Start', 'Remember to commit code']\n"
          ]
        }
      ],
      "source": [
        "# Exercise 2.3: Your code here\n",
        "\n",
        "def add_points(current, points):\n",
        "    return current + points\n",
        "\n",
        "def append_note(notes, msg):\n",
        "    notes.append(msg)\n",
        "    return notes\n",
        "\n",
        "print(add_points(50, 20))\n",
        "print(append_note([\"Start\"], \"Remember to commit code\"))"
      ]
    },
    {
      "cell_type": "markdown",
      "metadata": {
        "id": "xbbw5P_1L_gy"
      },
      "source": [
        "---\n",
        "\n",
        "## 🧠 Section 3: Basic Algorithms\n",
        "\n",
        "### Exercise 3.1: Linear Search\n",
        "Implement `linear_search(items, target)` to return the index of `target` in `items`, or `-1` if not found. Test with `items = [\"red\", \"blue\", \"green\", \"blue\"]` and `target = \"green\"."
      ]
    },
    {
      "cell_type": "code",
      "execution_count": 4,
      "metadata": {
        "colab": {
          "base_uri": "https://localhost:8080/"
        },
        "id": "N-eonBjPL_gy",
        "outputId": "19ab5779-c9d4-48ea-91b6-00059907d67d"
      },
      "outputs": [
        {
          "output_type": "stream",
          "name": "stdout",
          "text": [
            "2\n"
          ]
        }
      ],
      "source": [
        "# Exercise 3.1: Your code here\n",
        "\n",
        "def linear_search(items, target):\n",
        "    for idx, val in enumerate(items):\n",
        "        if val == target:\n",
        "            return idx\n",
        "    return -1\n",
        "\n",
        "colors = [\"red\", \"blue\", \"green\", \"blue\"]\n",
        "print(linear_search(colors, \"green\"))"
      ]
    },
    {
      "cell_type": "markdown",
      "metadata": {
        "id": "lm35m1k7L_gy"
      },
      "source": [
        "(part 2) How does the behavior change once checking for \"blue\"? Can you fix the problem?"
      ]
    },
    {
      "cell_type": "code",
      "execution_count": 5,
      "metadata": {
        "colab": {
          "base_uri": "https://localhost:8080/"
        },
        "id": "KBw_D7p9L_gy",
        "outputId": "2a477f16-1aea-440d-d8cb-c7a5242c7474"
      },
      "outputs": [
        {
          "output_type": "stream",
          "name": "stdout",
          "text": [
            "[1, 3]\n"
          ]
        }
      ],
      "source": [
        "# Exercise 3.1: Your code here (second part)\n",
        "\n",
        "def linear_search_all(items, target):\n",
        "    positions = []\n",
        "    for idx, val in enumerate(items):\n",
        "        if val == target:\n",
        "            positions.append(idx)\n",
        "    return positions if positions else [-1]\n",
        "\n",
        "colors = [\"red\", \"blue\", \"green\", \"blue\"]\n",
        "print(linear_search_all(colors, \"blue\"))"
      ]
    },
    {
      "cell_type": "markdown",
      "metadata": {
        "id": "c9aQF_SCL_gy"
      },
      "source": [
        "### Exercise 3.2: Find Maximum/Minimum (Manual)\n",
        "Without using `max()` or `min()`, iterate **once** over `numbers = [7, 3, 11, 4, 9]` to compute both `min_val` and `max_val`."
      ]
    },
    {
      "cell_type": "code",
      "execution_count": 6,
      "metadata": {
        "colab": {
          "base_uri": "https://localhost:8080/"
        },
        "id": "Wxh1hU-yL_gy",
        "outputId": "7f11c651-9e55-407c-da03-fc5426f62d7e"
      },
      "outputs": [
        {
          "output_type": "stream",
          "name": "stdout",
          "text": [
            "3 11\n"
          ]
        }
      ],
      "source": [
        "# Exercise 3.2: Your code here\n",
        "\n",
        "numbers = [7, 3, 11, 4, 9]\n",
        "min_val = numbers[0]\n",
        "max_val = numbers[0]\n",
        "\n",
        "for num in numbers:\n",
        "    if num < min_val:\n",
        "        min_val = num\n",
        "    if num > max_val:\n",
        "        max_val = num\n",
        "\n",
        "print(min_val, max_val)"
      ]
    },
    {
      "cell_type": "markdown",
      "metadata": {
        "id": "76uwhLKHL_gy"
      },
      "source": [
        "### Exercise 3.3: Frequency Count\n",
        "Given `departments = [\"Sales\", \"HR\", \"Sales\", \"IT\", \"IT\", \"IT\"]`, build a frequency dictionary mapping department → count using a loop."
      ]
    },
    {
      "cell_type": "code",
      "execution_count": 7,
      "metadata": {
        "colab": {
          "base_uri": "https://localhost:8080/"
        },
        "id": "pgyIuPquL_gy",
        "outputId": "2e906c75-cd98-45d9-f795-8b334e638abe"
      },
      "outputs": [
        {
          "output_type": "stream",
          "name": "stdout",
          "text": [
            "{'Sales': 2, 'HR': 1, 'IT': 3}\n"
          ]
        }
      ],
      "source": [
        "# Exercise 3.3: Your code here\n",
        "\n",
        "departments = [\"Sales\", \"HR\", \"Sales\", \"IT\", \"IT\", \"IT\"]\n",
        "freq = {}\n",
        "\n",
        "for dept in departments:\n",
        "    freq[dept] = freq.get(dept, 0) + 1\n",
        "\n",
        "print(freq)"
      ]
    },
    {
      "cell_type": "markdown",
      "metadata": {
        "id": "N100lDO8L_gy"
      },
      "source": [
        "---\n",
        "\n",
        "## 🚀 Challenge Problems (Optional)\n",
        "\n",
        "1. Moving Average: Write `moving_average(nums, window)` that returns a list of averages for each contiguous window (ignore windows that don’t fit).\n",
        "2. Order-Preserving Dedup: Given a list of names with duplicates, return a new list with the first occurrence kept and later duplicates removed, preserving order.\n",
        "\n"
      ]
    },
    {
      "cell_type": "markdown",
      "metadata": {
        "id": "q1175iT8L_gy"
      },
      "source": [
        "---\n",
        "\n",
        "## 🤔 Reflection Questions\n",
        "\n",
        "1. Where did loops simplify your code the most today?\n",
        "2. How did functions improve clarity or reuse?\n",
        "3. How would you explain linear search and max in plain English?\n",
        "\n"
      ]
    },
    {
      "cell_type": "markdown",
      "metadata": {
        "id": "2qQ7QmGPL_gy"
      },
      "source": [
        "---\n",
        "\n",
        "## 📚 Additional Resources\n",
        "\n",
        "- Python For Loops: `https://docs.python.org/3/tutorial/controlflow.html#for-statements`\n",
        "- While Loops: `https://docs.python.org/3/tutorial/introduction.html#first-steps-towards-programming`\n",
        "- Defining Functions: `https://docs.python.org/3/tutorial/controlflow.html#defining-functions`\n",
        "- Algorithms (intro): `https://runestone.academy/ns/books/published/pythonds/AlgorithmAnalysis/toctree.html`\n",
        "\n",
        "---\n"
      ]
    }
  ],
  "metadata": {
    "language_info": {
      "name": "python"
    },
    "colab": {
      "provenance": []
    },
    "kernelspec": {
      "name": "python3",
      "display_name": "Python 3"
    }
  },
  "nbformat": 4,
  "nbformat_minor": 0
}