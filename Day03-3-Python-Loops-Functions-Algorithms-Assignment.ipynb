{
  "cells": [
    {
      "cell_type": "markdown",
      "metadata": {
        "id": "GyZDj_2YL_gu"
      },
      "source": [
        "# Day 3: Python Loops, Functions, and Basic Algorithms\n",
        "## Instructions & Exercises\n",
        "\n",
        "Welcome to Day 3! Today you will practice writing loops, organizing code with functions, and implementing simple algorithms. We build on Days 1–2 and do not repeat earlier topics.\n",
        "\n",
        "---\n"
      ]
    },
    {
      "cell_type": "markdown",
      "metadata": {
        "id": "H6LI5n5DL_gv"
      },
      "source": [
        "## 🎯 Learning Objectives\n",
        "\n",
        "By the end of this lesson, you will be able to:\n",
        "1. Use `for` and `while` loops to iterate and control repetition\n",
        "2. Define and call functions with parameters and return values\n",
        "3. Implement simple algorithms (linear search, max) using loops and functions\n",
        "\n",
        "---\n"
      ]
    },
    {
      "cell_type": "markdown",
      "metadata": {
        "id": "ZTQ1JMG6L_gw"
      },
      "source": [
        "## 🔁 Section 1: Loops\n",
        "\n",
        "### Exercise 1.1: For Loop — Sales Summary\n",
        "Given `sales = [120, 98, 145, 130, 160, 150]`:\n",
        "1. Use a `for` loop to compute `total`\n",
        "2. Compute `average` using `total` and `len`\n",
        "3. Print `min`, `max`, and `average` (rounded to 2 decimals)"
      ]
    },
    {
      "cell_type": "code",
      "execution_count": 1,
      "metadata": {
        "id": "ATNsg5u7L_gw",
        "outputId": "5f42dd71-c92e-4a91-f275-32998107a85b",
        "colab": {
          "base_uri": "https://localhost:8080/"
        }
      },
      "outputs": [
        {
          "output_type": "stream",
          "name": "stdout",
          "text": [
            "98 160 133.83\n"
          ]
        }
      ],
      "source": [
        "# Exercise 1.1: Your code here\n",
        "\n",
        "sales = [120, 98, 145, 130, 160, 150]\n",
        "total = 0\n",
        "\n",
        "for sale in sales:\n",
        "  total += sale\n",
        "\n",
        "average = total / len(sales)\n",
        "\n",
        "print(min(sales), max(sales), round(average,2))"
      ]
    },
    {
      "cell_type": "markdown",
      "metadata": {
        "id": "-QoSLkxNL_gw"
      },
      "source": [
        "### Exercise 1.2: While Loop — Savings Simulator\n",
        "Simulate saving money until a goal is reached.\n",
        "- Start with `balance = 0`\n",
        "- Each month add `deposit = 250`\n",
        "- Stop when `balance >= goal` where `goal = 2000`\n",
        "- Count months and print the final `balance` and `months`\n",
        "\n"
      ]
    },
    {
      "cell_type": "code",
      "execution_count": null,
      "metadata": {
        "id": "MfZL7ZokL_gx"
      },
      "outputs": [],
      "source": [
        "# Exercise 1.2: Your code here\n",
        "\n",
        "# balance = 0\n",
        "# deposit = 250\n",
        "# goal = 2000\n",
        "\n"
      ]
    },
    {
      "cell_type": "markdown",
      "metadata": {
        "id": "gcDQ43PXL_gx"
      },
      "source": [
        "\n",
        "### Exercise 1.3: Loop Patterns — Filter and Transform\n",
        "Given `temperatures = [72, 65, 88, 90, 67, 73, 85]`:\n",
        "1. Build a new list `hot_days` containing temps >= 80 (using a loop)\n",
        "2. Build `celsius` list converting each temp to Celsius: `(f - 32) * 5/9`"
      ]
    },
    {
      "cell_type": "code",
      "execution_count": null,
      "metadata": {
        "id": "pMmq17NBL_gx"
      },
      "outputs": [],
      "source": [
        "# Exercise 1.3: Your code here\n",
        "\n",
        "# temperatures = [72, 65, 88, 90, 67, 73, 85]\n",
        "\n"
      ]
    },
    {
      "cell_type": "markdown",
      "metadata": {
        "id": "BNEMlYeuL_gx"
      },
      "source": [
        "---\n",
        "\n",
        "## 🧩 Section 2: Functions\n",
        "\n",
        "### Exercise 2.1: Summary Statistics Function\n",
        "Write a function `summary_stats(numbers)` that returns a dictionary with `min`, `max`, and `mean` (rounded to 2 decimals) for a list of numbers. Test with `sales` from Exercise 1.1."
      ]
    },
    {
      "cell_type": "code",
      "execution_count": null,
      "metadata": {
        "id": "sNfsP5ybL_gx"
      },
      "outputs": [],
      "source": [
        "# Exercise 2.1: Your code here\n",
        "\n"
      ]
    },
    {
      "cell_type": "markdown",
      "metadata": {
        "id": "FvfGPZ_QL_gy"
      },
      "source": [
        "### Exercise 2.2: Parameter Defaults\n",
        "Write `apply_discount` that returns the discounted amount and uses a 5% default value for discount. Test with two calls: one using the default, one passing `rate=0.12`. (price = $100.00)"
      ]
    },
    {
      "cell_type": "code",
      "execution_count": null,
      "metadata": {
        "id": "Ig81txbNL_gy"
      },
      "outputs": [],
      "source": [
        "# Exercise 2.2: Your code here\n",
        "\n"
      ]
    },
    {
      "cell_type": "markdown",
      "metadata": {
        "id": "QbClrZ1ZL_gy"
      },
      "source": [
        "### Exercise 2.3: Pure Function vs. Side Effects\n",
        "A pure function is a function that:\n",
        "\n",
        "* Always gives the same output for the same inputs.\n",
        "* Does not change anything outside the function (it does not modify variables, lists, or other data that were created outside of it).\n",
        "\n",
        "External state means any variable, object, or data structure that exists outside the function — for example, a list or variable defined before the function is called. If a function changes this external state, it has a side effect.\n",
        "\n",
        "Your task:\n",
        "1. Write a function add_points(current, points) that returns a new total score.\n",
        "\n",
        "2. Write a function append_note(notes, msg) that takes a list of notes and a message, and appends the message to the list.\n",
        "\n",
        "3. Explain which function is pure and why."
      ]
    },
    {
      "cell_type": "code",
      "execution_count": null,
      "metadata": {
        "id": "4ig1TMUML_gy"
      },
      "outputs": [],
      "source": [
        "# Exercise 2.3: Your code here\n",
        "\n"
      ]
    },
    {
      "cell_type": "markdown",
      "metadata": {
        "id": "xbbw5P_1L_gy"
      },
      "source": [
        "---\n",
        "\n",
        "## 🧠 Section 3: Basic Algorithms\n",
        "\n",
        "### Exercise 3.1: Linear Search\n",
        "Implement `linear_search(items, target)` to return the index of `target` in `items`, or `-1` if not found. Test with `items = [\"red\", \"blue\", \"green\", \"blue\"]` and `target = \"green\"."
      ]
    },
    {
      "cell_type": "code",
      "execution_count": null,
      "metadata": {
        "id": "N-eonBjPL_gy"
      },
      "outputs": [],
      "source": [
        "# Exercise 3.1: Your code here\n",
        "\n"
      ]
    },
    {
      "cell_type": "markdown",
      "metadata": {
        "id": "lm35m1k7L_gy"
      },
      "source": [
        "(part 2) How does the behavior change once checking for \"blue\"? Can you fix the problem?"
      ]
    },
    {
      "cell_type": "code",
      "execution_count": null,
      "metadata": {
        "id": "KBw_D7p9L_gy"
      },
      "outputs": [],
      "source": [
        "# Exercise 3.1: Your code here (second part)\n",
        "\n"
      ]
    },
    {
      "cell_type": "markdown",
      "metadata": {
        "id": "c9aQF_SCL_gy"
      },
      "source": [
        "### Exercise 3.2: Find Maximum/Minimum (Manual)\n",
        "Without using `max()` or `min()`, iterate **once** over `numbers = [7, 3, 11, 4, 9]` to compute both `min_val` and `max_val`."
      ]
    },
    {
      "cell_type": "code",
      "execution_count": null,
      "metadata": {
        "id": "Wxh1hU-yL_gy"
      },
      "outputs": [],
      "source": [
        "# Exercise 3.2: Your code here\n",
        "\n"
      ]
    },
    {
      "cell_type": "markdown",
      "metadata": {
        "id": "76uwhLKHL_gy"
      },
      "source": [
        "### Exercise 3.3: Frequency Count\n",
        "Given `departments = [\"Sales\", \"HR\", \"Sales\", \"IT\", \"IT\", \"IT\"]`, build a frequency dictionary mapping department → count using a loop."
      ]
    },
    {
      "cell_type": "code",
      "execution_count": null,
      "metadata": {
        "id": "pgyIuPquL_gy"
      },
      "outputs": [],
      "source": [
        "# Exercise 3.3: Your code here\n",
        "\n"
      ]
    },
    {
      "cell_type": "markdown",
      "metadata": {
        "id": "N100lDO8L_gy"
      },
      "source": [
        "---\n",
        "\n",
        "## 🚀 Challenge Problems (Optional)\n",
        "\n",
        "1. Moving Average: Write `moving_average(nums, window)` that returns a list of averages for each contiguous window (ignore windows that don’t fit).\n",
        "2. Order-Preserving Dedup: Given a list of names with duplicates, return a new list with the first occurrence kept and later duplicates removed, preserving order.\n",
        "\n"
      ]
    },
    {
      "cell_type": "markdown",
      "metadata": {
        "id": "q1175iT8L_gy"
      },
      "source": [
        "---\n",
        "\n",
        "## 🤔 Reflection Questions\n",
        "\n",
        "1. Where did loops simplify your code the most today?\n",
        "2. How did functions improve clarity or reuse?\n",
        "3. How would you explain linear search and max in plain English?\n",
        "\n"
      ]
    },
    {
      "cell_type": "markdown",
      "metadata": {
        "id": "2qQ7QmGPL_gy"
      },
      "source": [
        "---\n",
        "\n",
        "## 📚 Additional Resources\n",
        "\n",
        "- Python For Loops: `https://docs.python.org/3/tutorial/controlflow.html#for-statements`\n",
        "- While Loops: `https://docs.python.org/3/tutorial/introduction.html#first-steps-towards-programming`\n",
        "- Defining Functions: `https://docs.python.org/3/tutorial/controlflow.html#defining-functions`\n",
        "- Algorithms (intro): `https://runestone.academy/ns/books/published/pythonds/AlgorithmAnalysis/toctree.html`\n",
        "\n",
        "---\n"
      ]
    }
  ],
  "metadata": {
    "language_info": {
      "name": "python"
    },
    "colab": {
      "provenance": []
    },
    "kernelspec": {
      "name": "python3",
      "display_name": "Python 3"
    }
  },
  "nbformat": 4,
  "nbformat_minor": 0
}