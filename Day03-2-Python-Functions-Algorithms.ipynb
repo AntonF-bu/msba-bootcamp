{
  "cells": [
    {
      "cell_type": "markdown",
      "metadata": {
        "id": "Ls05fQvr7SIf"
      },
      "source": [
        "# Day 3: Functions & Basic Algorithms\n",
        "## Lecture Notebook\n",
        "\n",
        "This notebook is for live coding on functions and basic algorithms (searching and simple aggregations).\n",
        "\n",
        "---\n"
      ]
    },
    {
      "cell_type": "markdown",
      "metadata": {
        "id": "_4iVgwjZ7SIh"
      },
      "source": [
        "## 🎯 Goals for This Session\n",
        "- Define and call functions with parameters and return values\n",
        "- Compose functions for clarity and reuse\n",
        "- Implement linear search and manual max\n",
        "\n",
        "---\n"
      ]
    },
    {
      "cell_type": "code",
      "source": [
        "def Hello(greeting = 'Hello!'):\n",
        "  'This function prints a greeting that it receives as a parameter.'\n",
        "  print(greeting)\n",
        "  return(greeting)"
      ],
      "metadata": {
        "id": "uukJoqwD8I9R"
      },
      "execution_count": 16,
      "outputs": []
    },
    {
      "cell_type": "code",
      "source": [
        "out_Hello = Hello(greeting='Hola!')"
      ],
      "metadata": {
        "id": "vamUCTqY9RFY",
        "outputId": "6efee2a1-a596-4921-935d-9d7f117306a9",
        "colab": {
          "base_uri": "https://localhost:8080/"
        }
      },
      "execution_count": 17,
      "outputs": [
        {
          "output_type": "stream",
          "name": "stdout",
          "text": [
            "Hola!\n"
          ]
        }
      ]
    },
    {
      "cell_type": "code",
      "source": [
        "out_Hello"
      ],
      "metadata": {
        "id": "QSFlAIry9dRY",
        "outputId": "a577b2f0-6474-4a32-e44c-aa7296a8c22c",
        "colab": {
          "base_uri": "https://localhost:8080/",
          "height": 35
        }
      },
      "execution_count": 18,
      "outputs": [
        {
          "output_type": "execute_result",
          "data": {
            "text/plain": [
              "'Hola!'"
            ],
            "application/vnd.google.colaboratory.intrinsic+json": {
              "type": "string"
            }
          },
          "metadata": {},
          "execution_count": 18
        }
      ]
    },
    {
      "cell_type": "markdown",
      "metadata": {
        "id": "nXrOUwuB7SIh"
      },
      "source": [
        "## 🧩 Part 1: Functions\n",
        "\n",
        "### Demo 1.1: Summary Function\n",
        "Write `summarize(numbers)` that returns `(count, total, mean)` for list objects.\n"
      ]
    },
    {
      "cell_type": "code",
      "execution_count": 19,
      "metadata": {
        "colab": {
          "base_uri": "https://localhost:8080/"
        },
        "id": "vuH6YdZh7SIi",
        "outputId": "da14f2dd-a6f1-4630-a84d-b915bcb1f224"
      },
      "outputs": [
        {
          "output_type": "execute_result",
          "data": {
            "text/plain": [
              "(3, 19, 6.33)"
            ]
          },
          "metadata": {},
          "execution_count": 19
        }
      ],
      "source": [
        "# Live Code: summarize\n",
        "\n",
        "def summarize(numbers):\n",
        "  total = 0\n",
        "  for n in numbers:\n",
        "    total+= n\n",
        "\n",
        "  count = len(numbers)\n",
        "  mean = round(total / count, 2)\n",
        "\n",
        "  return count, total, mean\n",
        "\n",
        "summarize([3, 6, 10])\n",
        "\n",
        "# return count, total, mean\n",
        "\n"
      ]
    },
    {
      "cell_type": "markdown",
      "metadata": {
        "id": "1LdCIi9c7SIi"
      },
      "source": [
        "### Demo 1.2: Parameters and Defaults\n",
        "Write `apply_tax(amount, rate=0.0625)` returning the rounded total.\n"
      ]
    },
    {
      "cell_type": "code",
      "execution_count": 25,
      "metadata": {
        "colab": {
          "base_uri": "https://localhost:8080/"
        },
        "id": "wsJrsTo-7SIi",
        "outputId": "6f3c715b-580d-4516-a123-298d3f366423"
      },
      "outputs": [
        {
          "output_type": "execute_result",
          "data": {
            "text/plain": [
              "106.25"
            ]
          },
          "metadata": {},
          "execution_count": 25
        }
      ],
      "source": [
        "# Live Code: apply_tax\n",
        "\n",
        "def apply_tax(amount, rate=0.0625):\n",
        "  total = amount * (1 + rate)\n",
        "\n",
        "  return round(total, 2)\n",
        "\n",
        "apply_tax(100)\n"
      ]
    },
    {
      "cell_type": "markdown",
      "metadata": {
        "id": "5xj6Q_5K7SIi"
      },
      "source": [
        "## 🔍 Part 2: Basic Algorithms\n",
        "\n",
        "### Demo 2.1: Linear Search\n",
        "Implement `find_index(items, target)` to return the first index or `-1`."
      ]
    },
    {
      "cell_type": "code",
      "execution_count": 41,
      "metadata": {
        "colab": {
          "base_uri": "https://localhost:8080/"
        },
        "id": "-GZwK00M7SIj",
        "outputId": "9c94f66a-a73e-4215-9d05-7bb9264bc53e"
      },
      "outputs": [
        {
          "output_type": "stream",
          "name": "stdout",
          "text": [
            "Iteration number 0 and value is 1 (target: 9)\n",
            "Iteration number 1 and value is 2 (target: 9)\n",
            "Iteration number 2 and value is 9 (target: 9)\n"
          ]
        },
        {
          "output_type": "execute_result",
          "data": {
            "text/plain": [
              "2"
            ]
          },
          "metadata": {},
          "execution_count": 41
        }
      ],
      "source": [
        "# Live Code: find_index\n",
        "\n",
        "def find_index(items, target):\n",
        "    for i, v in enumerate(items):\n",
        "      print(f'Iteration number {i} and value is {v} (target: {target})')\n",
        "      if v == target:\n",
        "        return i\n",
        "    return -1\n",
        "\n",
        "find_index([1,2,9],9)"
      ]
    },
    {
      "cell_type": "markdown",
      "metadata": {
        "id": "lF-K26yP7SIj"
      },
      "source": [
        "### Demo 2.2: Simple Sort\n",
        "Here’s a bare-bones outline of selection sort. Convert it into a function to sort lists:\n",
        "\n",
        "1. Start at the first position in the list.\n",
        "2. Find the smallest value in the remaining unsorted part of the list.\n",
        "3. Swap it with the value at the current position.\n",
        "4. Move to the next position and repeat steps 2–3 until the whole list is sorted.\n"
      ]
    },
    {
      "cell_type": "code",
      "execution_count": 57,
      "metadata": {
        "colab": {
          "base_uri": "https://localhost:8080/"
        },
        "id": "S3q_61TG7SIj",
        "outputId": "268e956b-beb0-4b04-e9d8-ef29a5457833"
      },
      "outputs": [
        {
          "output_type": "stream",
          "name": "stdout",
          "text": [
            "[1, 2, 3, 4, 5]\n"
          ]
        }
      ],
      "source": [
        "# Live Code: selection sort\n",
        "def selection_sort(lst):\n",
        "  for i in range(len(lst)):\n",
        "    min_index = i\n",
        "\n",
        "    for j in range(i + 1, len(lst)):\n",
        "      if lst[j] < lst[min_index]:\n",
        "        min_index = j\n",
        "\n",
        "    lst[i], lst[min_index] = lst[min_index], lst[i]\n",
        "\n",
        "  return(lst)\n",
        "\n",
        "num = [5, 4, 3, 2, 1]\n",
        "sorted_list = selection_sort(num)\n",
        "print(sorted_list)"
      ]
    },
    {
      "cell_type": "markdown",
      "metadata": {
        "id": "_QoaIs4C7SIj"
      },
      "source": [
        "### Demo 2.3: Running Total (Cumulative Sum)\n",
        "Write a function `running_total(numbers)` that returns a new list where each element is the cumulative sum up to that position."
      ]
    },
    {
      "cell_type": "code",
      "execution_count": null,
      "metadata": {
        "id": "wZlzu5kP7SIj"
      },
      "outputs": [],
      "source": [
        "# Live Code: running_total\n",
        "\n",
        "# def running_total(numbers):\n",
        "#     ...\n",
        "# return result\n",
        "\n"
      ]
    },
    {
      "cell_type": "markdown",
      "metadata": {
        "id": "EOysRrzt7SIj"
      },
      "source": [
        "### Demo 2.4: Order-Preserving Dedup\n",
        "Write a function `dedup_preserve(items)` that removes duplicates while keeping the first occurrence and preserving original order.\n"
      ]
    },
    {
      "cell_type": "code",
      "execution_count": null,
      "metadata": {
        "id": "Od5LdHCH7SIj"
      },
      "outputs": [],
      "source": [
        "# Live Code: dedup_preserve\n",
        "\n",
        "# def dedup_preserve(items):\n",
        "#     ...\n",
        "# return unique_items\n",
        "\n"
      ]
    },
    {
      "cell_type": "markdown",
      "metadata": {
        "id": "31e0Vn1M7SIj"
      },
      "source": [
        "### Demo 2.5\n",
        "Add a docstring for the function you wrote in 2.4"
      ]
    },
    {
      "cell_type": "code",
      "execution_count": null,
      "metadata": {
        "id": "lx7FrI2y7SIj"
      },
      "outputs": [],
      "source": [
        "# Live Code: dedup_preserve with docstring\n",
        "\n",
        "# def dedup_preserve(items):\n",
        "# \"\"\"\n",
        "# ...\n",
        "# \"\"\"\n",
        "# return unique_items"
      ]
    }
  ],
  "metadata": {
    "kernelspec": {
      "display_name": "py_latest",
      "language": "python",
      "name": "python3"
    },
    "language_info": {
      "codemirror_mode": {
        "name": "ipython",
        "version": 3
      },
      "file_extension": ".py",
      "mimetype": "text/x-python",
      "name": "python",
      "nbconvert_exporter": "python",
      "pygments_lexer": "ipython3",
      "version": "3.13.2"
    },
    "colab": {
      "provenance": []
    }
  },
  "nbformat": 4,
  "nbformat_minor": 0
}