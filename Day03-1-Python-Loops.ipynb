{
  "cells": [
    {
      "cell_type": "markdown",
      "metadata": {
        "id": "xG_waVgjkgrX"
      },
      "source": [
        "# Day 3: Python Loops\n",
        "## Lecture Notebook\n",
        "\n",
        "This notebook is for live coding on loops. We'll iterate with `for` and `while`, compare when to use each, and practice common patterns.\n",
        "\n",
        "---\n"
      ]
    },
    {
      "cell_type": "markdown",
      "metadata": {
        "id": "7nIVtDBXkgrY"
      },
      "source": [
        "## 🎯 Goals for This Session\n",
        "- Iterate lists and ranges with `for`\n",
        "- Control repetition and termination with `while`\n",
        "- Choose the right loop for the job\n",
        "\n",
        "---\n"
      ]
    },
    {
      "cell_type": "markdown",
      "metadata": {
        "id": "XY5yfYuikgrZ"
      },
      "source": [
        "## 🔁 Part 1: For Loops\n",
        "\n",
        "### Demo 1.1: Iterating Over a List\n",
        "Iterate over `orders = [45, 120, 75, 200, 95]` and compute total and count of orders >= 100.\n"
      ]
    },
    {
      "cell_type": "code",
      "source": [
        "for x in range(10):\n",
        "  print(x)"
      ],
      "metadata": {
        "id": "HUyOb0GMlTal",
        "outputId": "397c8c44-7ffc-4a96-befa-c2468c3dcc7b",
        "colab": {
          "base_uri": "https://localhost:8080/"
        }
      },
      "execution_count": 3,
      "outputs": [
        {
          "output_type": "stream",
          "name": "stdout",
          "text": [
            "0\n",
            "1\n",
            "2\n",
            "3\n",
            "4\n",
            "5\n",
            "6\n",
            "7\n",
            "8\n",
            "9\n"
          ]
        }
      ]
    },
    {
      "cell_type": "code",
      "execution_count": 7,
      "metadata": {
        "id": "0CoUH-2kkgrZ",
        "outputId": "6d21cc1c-74df-44db-b1f2-6158d0b120be",
        "colab": {
          "base_uri": "https://localhost:8080/"
        }
      },
      "outputs": [
        {
          "output_type": "stream",
          "name": "stdout",
          "text": [
            "current total: 0 (current amount: 45)\n",
            "\n",
            "current total: 45 (current amount: 120)\n",
            "\n",
            "current total: 165 (current amount: 75)\n",
            "\n",
            "current total: 240 (current amount: 200)\n",
            "\n",
            "current total: 440 (current amount: 95)\n",
            "\n",
            "Final total: 535\n"
          ]
        }
      ],
      "source": [
        "# Live Code: For Loop over list\n",
        "\n",
        "orders = [45, 120, 75, 200, 95]\n",
        "total = 0\n",
        "high_count = 0\n",
        "for amount in orders:\n",
        "  print (f'current total: {total} (current amount: {amount})\\n')    #'f' formatting\n",
        "  total = total + amount\n",
        "\n",
        "print(f'Final total: {total}')\n",
        "\n",
        "# print(total, high_count)\n",
        "\n"
      ]
    },
    {
      "cell_type": "markdown",
      "metadata": {
        "id": "61Tt6GnZkgrZ"
      },
      "source": [
        "### Demo 1.2: Range and Index\n",
        "Use `range` to iterate indexes for `names = [\"Ava\", \"Ben\", \"Cara\"]` and print index → name.\n"
      ]
    },
    {
      "cell_type": "code",
      "execution_count": 11,
      "metadata": {
        "id": "E7m31X_mkgra",
        "outputId": "ea9ff064-9ec9-4bb1-cd8c-d01ce0e0f89a",
        "colab": {
          "base_uri": "https://localhost:8080/"
        }
      },
      "outputs": [
        {
          "output_type": "stream",
          "name": "stdout",
          "text": [
            "0 Ava\n",
            "1 Ben\n",
            "2 Cara\n"
          ]
        }
      ],
      "source": [
        "# Live Code: range indices\n",
        "\n",
        "names = [\"Ava\", \"Ben\", \"Cara\"]\n",
        "for i in range(len(names)):\n",
        "  print(i, names[i])\n",
        "\n"
      ]
    },
    {
      "cell_type": "code",
      "source": [
        "for i, name in enumerate(names):\n",
        "  print(i, name)"
      ],
      "metadata": {
        "id": "Nc_KKWj9sT1H",
        "outputId": "aae8fb81-8cce-4aa5-d1a7-e22e8f531a8f",
        "colab": {
          "base_uri": "https://localhost:8080/"
        }
      },
      "execution_count": 12,
      "outputs": [
        {
          "output_type": "stream",
          "name": "stdout",
          "text": [
            "0 Ava\n",
            "1 Ben\n",
            "2 Cara\n"
          ]
        }
      ]
    },
    {
      "cell_type": "code",
      "source": [
        "for i, _ in enumerate(names):   # position 1 , position 2 (if _ used it doesnt display e.g. for _ , i = will print just names and not index)\n",
        "  print(i)"
      ],
      "metadata": {
        "id": "aBV-nKMks6fH",
        "outputId": "d999152c-92c7-4ee1-daee-e0337e364d27",
        "colab": {
          "base_uri": "https://localhost:8080/"
        }
      },
      "execution_count": 14,
      "outputs": [
        {
          "output_type": "stream",
          "name": "stdout",
          "text": [
            "0\n",
            "1\n",
            "2\n"
          ]
        }
      ]
    },
    {
      "cell_type": "markdown",
      "metadata": {
        "id": "NCw_R4mfkgra"
      },
      "source": [
        "## 🔄 Part 2: While Loops\n",
        "\n",
        "### Demo 2.1: Counter with Condition\n",
        "Increment a counter until it reaches a limit; print steps.\n"
      ]
    },
    {
      "cell_type": "code",
      "execution_count": null,
      "metadata": {
        "id": "fy5naN9vkgra"
      },
      "outputs": [],
      "source": [
        "# Live Code: while loop counter\n",
        "\n",
        "# count = 0\n",
        "# limit = 5\n",
        "# while ...:\n",
        "#     ...\n",
        "# print(count)\n",
        "\n"
      ]
    },
    {
      "cell_type": "markdown",
      "metadata": {
        "id": "iP9_HYoAkgra"
      },
      "source": [
        "### Demo 2.2: Input Simulation with Sentinel\n",
        "Simulate reading values until `None` is encountered, then stop."
      ]
    },
    {
      "cell_type": "code",
      "execution_count": 16,
      "metadata": {
        "id": "E9Xhc-obkgra",
        "outputId": "55e03ba9-c87f-4bb2-8b25-6ba5d00f45b7",
        "colab": {
          "base_uri": "https://localhost:8080/"
        }
      },
      "outputs": [
        {
          "output_type": "stream",
          "name": "stdout",
          "text": [
            "2\n"
          ]
        }
      ],
      "source": [
        "# Live Code: sentinel loop\n",
        "\n",
        "values = [10, 20, None, 30]\n",
        "i = 0\n",
        "while i < len(values) and values[i] is not None:\n",
        "  i += 1\n",
        "print(i)\n"
      ]
    },
    {
      "cell_type": "markdown",
      "metadata": {
        "id": "1tYys4Ivkgra"
      },
      "source": [
        "## 🧪 Part 3: Filtering/Mapping and Flow Control\n",
        "\n",
        "### Demo 3.1: Filtering and Mapping\n",
        "Use a loop to filter and then map values in a single pass.\n"
      ]
    },
    {
      "cell_type": "code",
      "execution_count": 23,
      "metadata": {
        "id": "KldN2pr7kgra",
        "outputId": "80fc2744-6577-4b2f-ea93-e19e1fda3cd5",
        "colab": {
          "base_uri": "https://localhost:8080/"
        }
      },
      "outputs": [
        {
          "output_type": "stream",
          "name": "stdout",
          "text": [
            "[25.0, 120.0, 49.99]\n",
            "[26.56, 127.5, 53.11]\n"
          ]
        }
      ],
      "source": [
        "# Live Code: Filtering and Mapping\n",
        "\n",
        "prices = [9.99, 25.00, 4.50, 120.00, 49.99]\n",
        "filtered = []  # keep prices >= 20\n",
        "with_tax = []  # map to price * 1.0825 (example tax)\n",
        "\n",
        "for price in prices:\n",
        "  if price >= 20:\n",
        "    filtered.append(price)\n",
        "    with_tax.append(round(price * 1.0625,2))\n",
        "\n",
        "print(filtered)\n",
        "print(with_tax)\n",
        "# print(filtered)\n",
        "# print(with_tax)"
      ]
    },
    {
      "cell_type": "markdown",
      "metadata": {
        "id": "21BMMe6Okgrb"
      },
      "source": [
        "Now let's write a list comprehension that returns a list of prices (with tax) for items >=$20:"
      ]
    },
    {
      "cell_type": "code",
      "execution_count": 22,
      "metadata": {
        "id": "sF8aecc8kgrb",
        "outputId": "9e94eaf6-3795-48ff-a6ab-428f9f04226c",
        "colab": {
          "base_uri": "https://localhost:8080/"
        }
      },
      "outputs": [
        {
          "output_type": "stream",
          "name": "stdout",
          "text": [
            "[27, 128, 53, 27, 128, 53]\n"
          ]
        }
      ],
      "source": [
        "for price in prices:\n",
        "  if price >= 20:\n",
        "    with_tax.append(round(price * 1.0625))\n",
        "\n",
        "print(with_tax)\n",
        "\n"
      ]
    },
    {
      "cell_type": "markdown",
      "metadata": {
        "id": "cxkTjlGkkgrb"
      },
      "source": [
        "### Demo 3.2: Early Exit and Skips\n",
        "Demonstrating `break` to stop early and `continue` to skip items."
      ]
    },
    {
      "cell_type": "code",
      "execution_count": 24,
      "metadata": {
        "id": "aopCTC7Kkgrb",
        "outputId": "baf6a480-1729-4c85-9f98-dbf4b93d57ca",
        "colab": {
          "base_uri": "https://localhost:8080/"
        }
      },
      "outputs": [
        {
          "output_type": "stream",
          "name": "stdout",
          "text": [
            "10\n"
          ]
        }
      ],
      "source": [
        "#Live Code: break and continue\n",
        "\n",
        "numbers = [3, 7, -1, 10, 0, 5]\n",
        "total = 0\n",
        "for n in numbers:\n",
        "    if n < 0:\n",
        "        break  # early exit on invalid value\n",
        "    if n == 0:\n",
        "        continue  # skip zeros\n",
        "    total += n\n",
        "print(total)\n",
        "\n"
      ]
    },
    {
      "cell_type": "code",
      "source": [
        "#Live Code: break and continue\n",
        "\n",
        "numbers = [3, 7, -1, 10, 0, 5]\n",
        "total = 0\n",
        "for n in numbers:\n",
        "    # if n < 0:\n",
        "    #     break  # early exit on invalid value\n",
        "    if n < 0:\n",
        "        print(f'\\n WARNING::: Transaction vith value {n} is being skipped! \\n')\n",
        "        continue  # skip negatives\n",
        "    print(f'Total before the current transaction: {total} (current transaction: {n})')\n",
        "    total += n\n",
        "print(f'Total Amount: {total}')\n"
      ],
      "metadata": {
        "id": "yz4_H_J05tJz",
        "outputId": "dbcf005f-7e47-48a3-d4a2-f2bce305965b",
        "colab": {
          "base_uri": "https://localhost:8080/"
        }
      },
      "execution_count": 28,
      "outputs": [
        {
          "output_type": "stream",
          "name": "stdout",
          "text": [
            "Total before the current transaction: 0 (current transaction: 3)\n",
            "Total before the current transaction: 3 (current transaction: 7)\n",
            "\n",
            " WARNING::: Transaction vith value -1 is being skipped! \n",
            "\n",
            "Total before the current transaction: 10 (current transaction: 10)\n",
            "Total before the current transaction: 20 (current transaction: 0)\n",
            "Total before the current transaction: 20 (current transaction: 5)\n",
            "Total Amount: 25\n"
          ]
        }
      ]
    },
    {
      "cell_type": "code",
      "source": [],
      "metadata": {
        "id": "LK4Jpzg651Bg"
      },
      "execution_count": null,
      "outputs": []
    }
  ],
  "metadata": {
    "language_info": {
      "name": "python"
    },
    "colab": {
      "provenance": []
    },
    "kernelspec": {
      "name": "python3",
      "display_name": "Python 3"
    }
  },
  "nbformat": 4,
  "nbformat_minor": 0
}