<<<<<<< Updated upstream
{
  "cells": [
    {
      "cell_type": "markdown",
      "metadata": {},
      "source": [
        "# Day 1: Python Programming Fundamentals\n",
        "## Instructions & Exercises\n",
        "\n",
        "Welcome to your first day of Python programming! This notebook contains exercises and instructions to help you learn programming fundamentals, pseudocode, and basic Python concepts.\n",
        "\n",
        "---\n"
      ]
    },
    {
      "cell_type": "markdown",
      "metadata": {},
      "source": [
        "## 🎯 Learning Objectives\n",
        "\n",
        "By the end of this lesson, you will be able to:\n",
        "1. Understand computational thinking and problem-solving approaches\n",
        "2. Write pseudocode to outline solutions\n",
        "3. Design basic algorithms for simple problems\n",
        "4. Write and run your first Python program\n",
        "5. Understand how Python code interacts with computer hardware\n",
        "\n",
        "---\n"
      ]
    },
    {
      "cell_type": "markdown",
      "metadata": {},
      "source": [
        "## 📚 Section 1: Programming Fundamentals & Computational Thinking\n",
        "\n",
        "### What is Computational Thinking?\n",
        "\n",
        "Computational thinking is a problem-solving approach that involves:\n",
        "- **Decomposition**: Breaking down complex problems into smaller, manageable parts\n",
        "- **Pattern Recognition**: Identifying similarities and patterns in problems\n",
        "- **Abstraction**: Focusing on essential features while ignoring irrelevant details\n",
        "- **Algorithm Design**: Creating step-by-step solutions\n",
        "\n",
        "### Exercise 1.1: Problem Decomposition\n",
        "\n",
        "**Task**: Think about how you would explain to a friend how to make a peanut butter and jelly sandwich. Break this down into the smallest possible steps.\n",
        "\n",
        "**Instructions**: \n",
        "1. In the cell below, list out every single step required\n",
        "2. Be as detailed as possible (assume your friend has never made a sandwich before)\n",
        "3. Think about what could go wrong at each step\n"
      ]
    },
    {
      "cell_type": "markdown",
      "metadata": {},
      "source": [
        "**Your Answer for Exercise 1.1:**\n",
        "\n",
        "<!-- Write your step-by-step instructions here -->\n",
        "\n"
      ]
    },
    {
      "cell_type": "markdown",
      "metadata": {},
      "source": [
        "### Exercise 1.2: Pattern Recognition\n",
        "\n",
        "**Task**: Look at these number sequences and identify the patterns:\n",
        "\n",
        "1. 2, 4, 6, 8, 10, ?, ?\n",
        "2. 1, 4, 9, 16, 25, ?, ?\n",
        "3. 1, 1, 2, 3, 5, 8, ?, ?\n",
        "\n",
        "**Instructions**: \n",
        "1. Identify the pattern in each sequence\n",
        "2. Predict the next two numbers\n",
        "3. Explain the rule for each pattern\n"
      ]
    },
    {
      "cell_type": "markdown",
      "metadata": {},
      "source": [
        "**Your Answer for Exercise 1.2:**\n",
        "\n",
        "1. Pattern: ________________, Next numbers: __, __\n",
        "2. Pattern: ________________, Next numbers: __, __\n",
        "3. Pattern: ________________, Next numbers: __, __\n"
      ]
    },
    {
      "cell_type": "markdown",
      "metadata": {},
      "source": [
        "---\n",
        "\n",
        "## 📝 Section 2: Pseudocode & Algorithm Design\n",
        "\n",
        "### What is Pseudocode?\n",
        "\n",
        "Pseudocode is a way to describe an algorithm using plain language that's structured like programming code. It helps you plan your solution before writing actual code.\n",
        "\n",
        "### Pseudocode Guidelines:\n",
        "- Use simple, clear language\n",
        "- Structure your logic with indentation\n",
        "- Use keywords like START, END, IF, THEN, ELSE, WHILE, FOR\n",
        "- Focus on the logic, not the syntax\n",
        "\n",
        "### Example Pseudocode:\n",
        "```\n",
        "START\n",
        "    INPUT user's age\n",
        "    IF age >= 18 THEN\n",
        "        OUTPUT \"You can vote\"\n",
        "    ELSE\n",
        "        OUTPUT \"You cannot vote yet\"\n",
        "    END IF\n",
        "END\n",
        "```\n",
        "\n",
        "### Exercise 2.1: Writing Pseudocode\n",
        "\n",
        "**Task**: Write pseudocode for finding the largest number among three numbers.\n",
        "\n",
        "**Instructions**: \n",
        "1. Think about the steps needed to compare three numbers\n",
        "2. Use proper pseudocode structure\n",
        "3. Consider all possible cases\n"
      ]
    },
    {
      "cell_type": "markdown",
      "metadata": {},
      "source": [
        "**Your Pseudocode for Exercise 2.1:**\n",
        "\n",
        "```\n",
        "START\n",
        "    // Write your pseudocode here\n",
        "    \n",
        "    \n",
        "    \n",
        "END\n",
        "```\n"
      ]
    },
    {
      "cell_type": "markdown",
      "metadata": {},
      "source": [
        "### Exercise 2.2: Algorithm for Simple Calculator\n",
        "\n",
        "**Task**: Write pseudocode for a simple calculator that can add, subtract, multiply, or divide two numbers.\n",
        "\n",
        "**Instructions**: \n",
        "1. Your algorithm should ask the user for two numbers and an operation\n",
        "2. Perform the calculation\n",
        "3. Display the result\n",
        "4. Handle division by zero\n"
      ]
    },
    {
      "cell_type": "markdown",
      "metadata": {},
      "source": [
        "**Your Pseudocode for Exercise 2.2:**\n",
        "\n",
        "```\n",
        "START\n",
        "    // Write your calculator pseudocode here\n",
        "    \n",
        "    \n",
        "    \n",
        "END\n",
        "```\n"
      ]
    },
    {
      "cell_type": "markdown",
      "metadata": {},
      "source": [
        "---\n",
        "\n",
        "## 🐍 Section 3: Getting Started with Python\n",
        "\n",
        "### What is Python?\n",
        "\n",
        "Python is a high-level programming language that:\n",
        "- Is easy to read and write\n",
        "- Has simple syntax similar to English\n",
        "- Is widely used in data science, web development, and automation\n",
        "- Runs on an interpreter (translates code to machine language)\n",
        "\n",
        "### How Python Interacts with Hardware:\n",
        "\n",
        "1. **You write Python code** (human-readable)\n",
        "2. **Python interpreter** translates it to bytecode\n",
        "3. **Python Virtual Machine** executes bytecode\n",
        "4. **Operating System** manages hardware resources\n",
        "5. **Hardware** (CPU, memory, storage) executes instructions\n",
        "\n",
        "### Exercise 3.1: Your First Python Program\n",
        "\n",
        "**Task**: Write a \"Hello World\" program that displays a welcome message.\n",
        "\n",
        "**Instructions**: \n",
        "1. Use the `print()` function to display text\n",
        "2. Make your message personal and welcoming\n",
        "3. Run the cell to see your output\n"
      ]
    },
    {
      "cell_type": "code",
      "execution_count": null,
      "metadata": {},
      "outputs": [],
      "source": [
        "# Exercise 3.1: Write your \"Hello World\" program here\n",
        "\n",
        "# Your code here\n"
      ]
    },
    {
      "cell_type": "markdown",
      "metadata": {},
      "source": [
        "### Exercise 3.2: Variables and Input\n",
        "\n",
        "**Task**: Create a program that asks for the student's name and program, then displays a personalized message.\n",
        "\n",
        "**Instructions**: \n",
        "1. Use `input()` function to get user input\n",
        "2. Store the input in variables\n",
        "3. Use `print()` to display a message using the variables\n",
        "4. Remember: `input()` always returns a string!\n"
      ]
    },
    {
      "cell_type": "code",
      "execution_count": null,
      "metadata": {},
      "outputs": [],
      "source": [
        "# Exercise 3.2: Personal Information Program\n",
        "\n",
        "# Your code here\n"
      ]
    },
    {
      "cell_type": "markdown",
      "metadata": {},
      "source": [
        "### Exercise 3.3: Implementing Your Pseudocode\n",
        "\n",
        "**Task**: Convert your pseudocode from Exercise 2.1 (finding the largest of three numbers) into actual Python code.\n",
        "\n",
        "**Instructions**: \n",
        "1. Ask the user to input three numbers\n",
        "2. Convert the inputs to integers using `int()`\n",
        "3. Use `if`, `elif`, and `else` statements\n",
        "4. Display which number is the largest\n"
      ]
    },
    {
      "cell_type": "code",
      "execution_count": null,
      "metadata": {},
      "outputs": [],
      "source": [
        "# Exercise 3.3: Find the Largest Number\n",
        "\n",
        "# Your code here\n"
      ]
    },
    {
      "cell_type": "markdown",
      "metadata": {},
      "source": [
        "### Exercise 3.4: Simple Calculator Implementation\n",
        "\n",
        "**Task**: Convert your calculator pseudocode from Exercise 2.2 into Python code.\n",
        "\n",
        "**Instructions**: \n",
        "1. Ask for two numbers and an operation (+, -, *, /)\n",
        "2. Use conditional statements to perform the right operation\n",
        "3. Handle division by zero with an appropriate message\n",
        "4. Display the result clearly\n"
      ]
    },
    {
      "cell_type": "code",
      "execution_count": null,
      "metadata": {},
      "outputs": [],
      "source": [
        "# Exercise 3.4: Simple Calculator\n",
        "\n",
        "# Your code here\n"
      ]
    },
    {
      "cell_type": "markdown",
      "metadata": {},
      "source": [
        "---\n",
        "\n",
        "## 🚀 Challenge Problems\n",
        "\n",
        "### Challenge 1: Number Guessing Game\n",
        "\n",
        "**Task**: Create a simple number guessing game.\n",
        "\n",
        "**Requirements**: \n",
        "1. The computer \"thinks\" of a number between 1 and 10 (you can hard-code this for now)\n",
        "2. Ask the user to guess the number\n",
        "3. Tell them if their guess is too high, too low, or correct\n",
        "4. Give them a maximum of 3 tries\n"
      ]
    },
    {
      "cell_type": "code",
      "execution_count": null,
      "metadata": {},
      "outputs": [],
      "source": [
        "# Challenge 1: Number Guessing Game\n",
        "\n",
        "# Your code here\n"
      ]
    },
    {
      "cell_type": "markdown",
      "metadata": {},
      "source": [
        "### Challenge 2: Grade Calculator\n",
        "\n",
        "**Task**: Create a program that calculates a student's letter grade based on their numeric score.\n",
        "\n",
        "**Requirements**: \n",
        "1. Ask for a numeric grade (0-100)\n",
        "2. Convert to letter grade using this scale:\n",
        "   - A: 90-100\n",
        "   - B: 80-89\n",
        "   - C: 70-79\n",
        "   - D: 60-69\n",
        "   - F: Below 60\n",
        "3. Display both the numeric and letter grade\n"
      ]
    },
    {
      "cell_type": "code",
      "execution_count": null,
      "metadata": {},
      "outputs": [],
      "source": [
        "# Challenge 2: Grade Calculator\n",
        "\n",
        "# Your code here\n"
      ]
    },
    {
      "cell_type": "markdown",
      "metadata": {},
      "source": [
        "---\n",
        "\n",
        "## 🤔 Reflection Questions\n",
        "\n",
        "After completing the exercises, reflect on these questions:\n",
        "\n",
        "1. **Problem Solving**: How did breaking down problems into smaller steps help you?\n",
        "\n",
        "2. **Pseudocode vs. Code**: What was the difference between writing pseudocode and actual Python code?\n",
        "\n",
        "3. **Debugging**: What errors did you encounter, and how did you fix them?\n",
        "\n",
        "4. **Computational Thinking**: How can you apply these problem-solving skills to other areas of your life?\n",
        "\n",
        "**Write your reflections below:**\n"
      ]
    },
    {
      "cell_type": "markdown",
      "metadata": {},
      "source": [
        "**Your Reflections:**\n",
        "\n",
        "1. Problem Solving: \n",
        "\n",
        "2. Pseudocode vs. Code: \n",
        "\n",
        "3. Debugging: \n",
        "\n",
        "4. Computational Thinking:\n"
      ]
    },
    {
      "cell_type": "markdown",
      "metadata": {},
      "source": [
        "---\n",
        "\n",
        "## 📚 Additional Resources\n",
        "\n",
        "- [Python.org Official Tutorial](https://docs.python.org/3/tutorial/)\n",
        "- [Computational Thinking Concepts](https://www.cs.cmu.edu/~15110-s13/Wing06-ct.pdf)\n",
        "- [Algorithm Design Techniques](https://www.geeksforgeeks.org/fundamentals-of-algorithms/)\n",
        "\n",
        "---\n",
        "\n",
        "## ✅ What's Next?\n",
        "\n",
        "In the next class, we'll cover:\n",
        "- Data types and variables in more detail\n",
        "- Loops and iterations\n",
        "- Functions and code organization\n",
        "- Working with lists and basic data structures\n",
        "\n",
        "**Great job completing Day 1! 🎉**\n"
      ]
    }
  ],
  "metadata": {
    "language_info": {
      "name": "python"
    }
  },
  "nbformat": 4,
  "nbformat_minor": 2
}
=======
{"cells":[{"cell_type":"markdown","metadata":{"id":"694_vfjhEKcn"},"source":["# Day 1: Python Programming Fundamentals\n","## Instructions & Exercises\n","\n","Welcome to your first day of Python programming! This notebook contains exercises and instructions to help you learn programming fundamentals, pseudocode, and basic Python concepts.\n","\n","---\n"]},{"cell_type":"markdown","metadata":{"id":"-DfHQcXXEKcp"},"source":["## 📚 Section 1 Solutions: Programming Fundamentals & Computational Thinking\n","\n","### Exercise 1.1 Solution: Problem Decomposition\n","\n","**Sample Answer for making a PB&J sandwich:**\n","\n","1. Gather materials: bread, peanut butter, jelly, knife, plate\n","2. Check that bread is not moldy\n","3. Place two slices of bread on the plate\n","4. Open the peanut butter jar by twisting the lid counter-clockwise\n","5. Insert knife into peanut butter jar\n","6. Scoop out approximately 1 tablespoon of peanut butter on the knife\n","7. Spread peanut butter evenly on ONE slice of bread\n","8. Wipe knife clean with a paper towel\n","9. Open jelly jar by twisting lid counter-clockwise\n","10. Insert clean knife into jelly jar\n","11. Scoop out approximately 1 tablespoon of jelly\n","12. Spread jelly evenly on the OTHER slice of bread\n","13. Place the peanut butter slice face-down on top of the jelly slice\n","14. Gently press together\n","15. Cut diagonally if desired\n","16. Clean up materials\n","\n","**Key Learning**: Breaking problems into small, specific steps helps identify potential issues and ensures nothing is forgotten.\n"]},{"cell_type":"markdown","metadata":{"id":"myjiKor2EKcq"},"source":["## 📚 Section 1 Solutions: Programming Fundamentals & Computational Thinking\n","\n","### Exercise 1.1 Solution: Problem Decomposition\n","\n","**Sample Answer for making a PB&J sandwich:**\n","\n","1. Gather materials: bread, peanut butter, jelly, knife, plate\n","2. Check that bread is not moldy\n","3. Place two slices of bread on the plate\n","4. Open the peanut butter jar by twisting the lid counter-clockwise\n","5. Insert knife into peanut butter jar\n","6. Scoop out approximately 1 tablespoon of peanut butter on the knife\n","7. Spread peanut butter evenly on ONE slice of bread\n","8. Wipe knife clean with a paper towel\n","9. Open jelly jar by twisting lid counter-clockwise\n","10. Insert clean knife into jelly jar\n","11. Scoop out approximately 1 tablespoon of jelly\n","12. Spread jelly evenly on the OTHER slice of bread\n","13. Place the peanut butter slice face-down on top of the jelly slice\n","14. Gently press together\n","15. Cut diagonally if desired\n","16. Clean up materials\n","\n","**Key Learning**: Breaking problems into small, specific steps helps identify potential issues and ensures nothing is forgotten.\n"]},{"cell_type":"markdown","metadata":{"id":"6S-luneBEKcq"},"source":["## 🎯 Learning Objectives\n","\n","By the end of this lesson, you will be able to:\n","1. Understand computational thinking and problem-solving approaches\n","2. Write pseudocode to outline solutions\n","3. Design basic algorithms for simple problems\n","4. Write and run your first Python program\n","5. Understand how Python code interacts with computer hardware\n","\n","---\n"]},{"cell_type":"markdown","metadata":{"id":"nmGvd_6BEKcq"},"source":["## 📚 Section 1: Programming Fundamentals & Computational Thinking\n","\n","### What is Computational Thinking?\n","\n","Computational thinking is a problem-solving approach that involves:\n","- **Decomposition**: Breaking down complex problems into smaller, manageable parts\n","- **Pattern Recognition**: Identifying similarities and patterns in problems\n","- **Abstraction**: Focusing on essential features while ignoring irrelevant details\n","- **Algorithm Design**: Creating step-by-step solutions\n","\n","### Exercise 1.1: Problem Decomposition\n","\n","**Task**: Think about how you would explain to a friend how to make a peanut butter and jelly sandwich. Break this down into the smallest possible steps.\n","\n","**Instructions**:\n","1. In the cell below, list out every single step required\n","2. Be as detailed as possible (assume your friend has never made a sandwich before)\n","3. Think about what could go wrong at each step\n"]},{"cell_type":"markdown","metadata":{"id":"QfBbWdGKEKcq"},"source":["**Your Answer for Exercise 1.1:**\n","\n","<!-- Write your step-by-step instructions here -->\n","\n"]},{"cell_type":"markdown","metadata":{"id":"6qRMWcRKEKcq"},"source":["### Exercise 1.2: Pattern Recognition\n","\n","**Task**: Look at these number sequences and identify the patterns:\n","\n","1. 2, 4, 6, 8, 10, ?, ?\n","2. 1, 4, 9, 16, 25, ?, ?\n","3. 1, 1, 2, 3, 5, 8, ?, ?\n","\n","**Instructions**:\n","1. Identify the pattern in each sequence\n","2. Predict the next two numbers\n","3. Explain the rule for each pattern\n"]},{"cell_type":"markdown","metadata":{"id":"vF7PGaJQEKcq"},"source":["**Your Answer for Exercise 1.2:**\n","\n","1. Pattern: ________________, Next numbers: __, __\n","2. Pattern: ________________, Next numbers: __, __\n","3. Pattern: ________________, Next numbers: __, __\n"]},{"cell_type":"markdown","metadata":{"id":"yMYJTdGxEKcr"},"source":["---\n","\n","## 📝 Section 2: Pseudocode & Algorithm Design\n","\n","### What is Pseudocode?\n","\n","Pseudocode is a way to describe an algorithm using plain language that's structured like programming code. It helps you plan your solution before writing actual code.\n","\n","### Pseudocode Guidelines:\n","- Use simple, clear language\n","- Structure your logic with indentation\n","- Use keywords like START, END, IF, THEN, ELSE, WHILE, FOR\n","- Focus on the logic, not the syntax\n","\n","### Example Pseudocode:\n","```\n","START\n","    INPUT user's age\n","    IF age >= 18 THEN\n","        OUTPUT \"You can vote\"\n","    ELSE\n","        OUTPUT \"You cannot vote yet\"\n","    END IF\n","END\n","```\n","\n","### Exercise 2.1: Writing Pseudocode\n","\n","**Task**: Write pseudocode for finding the largest number among three numbers.\n","\n","**Instructions**:\n","1. Think about the steps needed to compare three numbers\n","2. Use proper pseudocode structure\n","3. Consider all possible cases\n"]},{"cell_type":"markdown","metadata":{"id":"HJQeUEvkEKcr"},"source":["**Your Pseudocode for Exercise 2.1:**\n","\n","```\n","START\n","    GET list of all S&P 500 companies\n","    SET best_ticker\n","    SET best_return\n","\n","    FOR each company in the list\n","        GET first trading day of year\n","        GET price of that day\n","        GET most recent price\n","        CALCULATE return = (recent price - start price) / start price * 100\n","\n","        IF return > best_return THEN\n","            best_return = return\n","            best_ticker = company\n","        END IF\n","    END FOR\n","\n","    OUTPUT best_ticker, best_return\n","END\n","```"]},{"cell_type":"markdown","metadata":{"id":"Sh89NKLlEKcr"},"source":["### Exercise 2.2: Algorithm for Simple Calculator\n","\n","**Task**: Write pseudocode for a simple calculator that can add, subtract, multiply, or divide two numbers.\n","\n","**Instructions**:\n","1. Your algorithm should ask the user for two numbers and an operation\n","2. Perform the calculation\n","3. Display the result\n","4. Handle division by zero\n"]},{"cell_type":"markdown","metadata":{"id":"K0BBcO6PEKcr"},"source":["**Your Pseudocode for Exercise 2.2:**\n","\n","```\n","START\n","  INPUT number_1\n","  INPUT number_2\n","  INPUT operation\n","\n","  IF operation = \"+\" THEN result = number_1 + number_2\n","  ELSE IF operation = \"-\" THEN result = number_1 - number_2\n","  ELSE IF operation = \"*\" THEN result = number_1 * number_2\n","  ELSE IF operation = \"/\" THEN\n","       IF number_2 = 0 THEN OUTPUT \"Error: divide by zero\" STOP\n","       ELSE result = number_1 / number_2\n","  ELSE OUTPUT \"Invalid operation\" STOP\n","\n","  OUTPUT result\n","END\n","```\n"]},{"cell_type":"markdown","metadata":{"id":"O1vsq1BaEKcr"},"source":["---\n","\n","## 🐍 Section 3: Getting Started with Python\n","\n","### What is Python?\n","\n","Python is a high-level programming language that:\n","- Is easy to read and write\n","- Has simple syntax similar to English\n","- Is widely used in data science, web development, and automation\n","- Runs on an interpreter (translates code to machine language)\n","\n","### How Python Interacts with Hardware:\n","\n","1. **You write Python code** (human-readable)\n","2. **Python interpreter** translates it to bytecode\n","3. **Python Virtual Machine** executes bytecode\n","4. **Operating System** manages hardware resources\n","5. **Hardware** (CPU, memory, storage) executes instructions\n","\n","### Exercise 3.1: Your First Python Program\n","\n","**Task**: Write a \"Hello World\" program that displays a welcome message.\n","\n","**Instructions**:\n","1. Use the `print()` function to display text\n","2. Make your message personal and welcoming\n","3. Run the cell to see your output\n"]},{"cell_type":"code","execution_count":1,"metadata":{"colab":{"base_uri":"https://localhost:8080/"},"id":"p_N6g4D_EKcr","executionInfo":{"status":"ok","timestamp":1755003693851,"user_tz":240,"elapsed":5,"user":{"displayName":"Anton Falk","userId":"15520382196634411728"}},"outputId":"6813fbe8-0246-4ba0-a33d-119dfeca027d"},"outputs":[{"output_type":"stream","name":"stdout","text":["Hello there! I'm Anton\n"]}],"source":["# Exercise 3.1: Write your \"Hello World\" program here\n","\n","print(\"Hello there! I'm Anton\")\n"]},{"cell_type":"markdown","metadata":{"id":"O0mpQXXPEKcs"},"source":["### Exercise 3.2: Variables and Input\n","\n","**Task**: Create a program that asks for the student's name and program, then displays a personalized message.\n","\n","**Instructions**:\n","1. Use `input()` function to get user input\n","2. Store the input in variables\n","3. Use `print()` to display a message using the variables\n","4. Remember: `input()` always returns a string!\n"]},{"cell_type":"code","execution_count":2,"metadata":{"colab":{"base_uri":"https://localhost:8080/"},"id":"ahKCoMjZEKcs","executionInfo":{"status":"ok","timestamp":1755003702362,"user_tz":240,"elapsed":8504,"user":{"displayName":"Anton Falk","userId":"15520382196634411728"}},"outputId":"72211c3c-8f9e-4816-a8f2-9bb9b2aa350b"},"outputs":[{"output_type":"stream","name":"stdout","text":["What's your name? Anton\n","Which program are you enrolled in? MSBA\n","Hi Anton, welcome to the MSBA program!\n"]}],"source":["# Exercise 3.2: Personal Information Program\n","\n","name = input(\"What's your name? \")\n","program = input(\"Which program are you enrolled in? \")\n","\n","print(f\"Hi {name}, welcome to the {program} program!\")\n"]},{"cell_type":"markdown","metadata":{"id":"LhnCkhBdEKcs"},"source":["### Exercise 3.3: Implementing Your Pseudocode\n","\n","**Task**: Convert your pseudocode from Exercise 2.1 (finding the largest of three numbers) into actual Python code.\n","\n","**Instructions**:\n","1. Ask the user to input three numbers\n","2. Convert the inputs to integers using `int()`\n","3. Use `if`, `elif`, and `else` statements\n","4. Display which number is the largest\n"]},{"cell_type":"code","execution_count":3,"metadata":{"colab":{"base_uri":"https://localhost:8080/"},"id":"dEd9SKR_EKcs","executionInfo":{"status":"ok","timestamp":1755003707052,"user_tz":240,"elapsed":4688,"user":{"displayName":"Anton Falk","userId":"15520382196634411728"}},"outputId":"1ebef9dc-237b-4100-bb3f-07da53982b1a"},"outputs":[{"output_type":"stream","name":"stdout","text":["Enter the first number: 1\n","Enter the second number: 4\n","Enter the third number: 2\n","The largest number is 4.\n"]}],"source":["# Exercise 3.3: Find the Largest Number\n","\n","a = int(input(\"Enter the first number: \"))\n","b = int(input(\"Enter the second number: \"))\n","c = int(input(\"Enter the third number: \"))\n","\n","if a >= b and a >= c:\n","    largest = a\n","elif b >= a and b >= c:\n","    largest = b\n","else:\n","    largest = c\n","\n","print(f\"The largest number is {largest}.\")\n"]},{"cell_type":"markdown","metadata":{"id":"VENbVaUjEKcs"},"source":["### Exercise 3.4: Simple Calculator Implementation\n","\n","**Task**: Convert your calculator pseudocode from Exercise 2.2 into Python code.\n","\n","**Instructions**:\n","1. Ask for two numbers and an operation (+, -, *, /)\n","2. Use conditional statements to perform the right operation\n","3. Handle division by zero with an appropriate message\n","4. Display the result clearly\n"]},{"cell_type":"code","execution_count":4,"metadata":{"colab":{"base_uri":"https://localhost:8080/"},"id":"gKgdXU3hEKcs","executionInfo":{"status":"ok","timestamp":1755003714616,"user_tz":240,"elapsed":7552,"user":{"displayName":"Anton Falk","userId":"15520382196634411728"}},"outputId":"115fc247-b67b-41e6-bc2d-5408971d6062"},"outputs":[{"output_type":"stream","name":"stdout","text":["First number: 1\n","Second number: 2\n","Operation (+, -, *, /): +\n","Result: 3.0\n"]}],"source":["# Exercise 3.4: Simple Calculator\n","\n","num1 = float(input(\"First number: \"))\n","num2 = float(input(\"Second number: \"))\n","op = input(\"Operation (+, -, *, /): \")\n","\n","if op == \"+\":\n","    result = num1 + num2\n","elif op == \"-\":\n","    result = num1 - num2\n","elif op == \"*\":\n","    result = num1 * num2\n","elif op == \"/\":\n","    if num2 == 0:\n","        print(\"Error: Cannot divide by zero.\")\n","        exit()\n","    result = num1 / num2\n","else:\n","    print(\"Invalid operation.\")\n","    exit()\n","\n","print(f\"Result: {result}\")\n"]},{"cell_type":"markdown","metadata":{"id":"1F5rNAV5EKcs"},"source":["---\n","\n","## 🚀 Challenge Problems\n","\n","### Challenge 1: Number Guessing Game\n","\n","**Task**: Create a simple number guessing game.\n","\n","**Requirements**:\n","1. The computer \"thinks\" of a number between 1 and 10 (you can hard-code this for now)\n","2. Ask the user to guess the number\n","3. Tell them if their guess is too high, too low, or correct\n","4. Give them a maximum of 3 tries\n"]},{"cell_type":"code","execution_count":5,"metadata":{"colab":{"base_uri":"https://localhost:8080/"},"id":"lmhHypG4EKcs","executionInfo":{"status":"ok","timestamp":1755003717827,"user_tz":240,"elapsed":3210,"user":{"displayName":"Anton Falk","userId":"15520382196634411728"}},"outputId":"d585702e-3e0a-4158-d895-7bdeb75a21af"},"outputs":[{"output_type":"stream","name":"stdout","text":["Guess the number (1-10). You have 3 tries!\n","Your guess: 7\n","Correct!\n"]}],"source":["# Challenge 1: Number Guessing Game\n","\n","secret = 7\n","tries = 3\n","\n","print(\"Guess the number (1-10). You have 3 tries!\")\n","\n","for attempt in range(tries):\n","    guess = int(input(\"Your guess: \"))\n","\n","    if guess == secret:\n","        print(\"Correct!\")\n","        break\n","    elif guess < secret:\n","        print(\"Too low.\")\n","    else:\n","        print(\"Too high.\")\n","else:\n","    print(f\"Out of tries! The number was {secret}.\")\n"]},{"cell_type":"markdown","metadata":{"id":"HrF4ZpL0EKcs"},"source":["### Challenge 2: Grade Calculator\n","\n","**Task**: Create a program that calculates a student's letter grade based on their numeric score.\n","\n","**Requirements**:\n","1. Ask for a numeric grade (0-100)\n","2. Convert to letter grade using this scale:\n","   - A: 90-100\n","   - B: 80-89\n","   - C: 70-79\n","   - D: 60-69\n","   - F: Below 60\n","3. Display both the numeric and letter grade\n"]},{"cell_type":"code","execution_count":6,"metadata":{"colab":{"base_uri":"https://localhost:8080/"},"id":"SJ4vp2GWEKcs","executionInfo":{"status":"ok","timestamp":1755003725377,"user_tz":240,"elapsed":7549,"user":{"displayName":"Anton Falk","userId":"15520382196634411728"}},"outputId":"2a516ff5-9ea0-4a57-8761-3260b2323d83"},"outputs":[{"output_type":"stream","name":"stdout","text":["Enter your numeric grade (0-100): 99\n","Your score is 99.0 which is a grade A.\n"]}],"source":["# Challenge 2: Grade Calculator\n","\n","score = float(input(\"Enter your numeric grade (0-100): \"))\n","\n","if 90 <= score <= 100:\n","    letter = \"A\"\n","elif 80 <= score < 90:\n","    letter = \"B\"\n","elif 70 <= score < 80:\n","    letter = \"C\"\n","elif 60 <= score < 70:\n","    letter = \"D\"\n","else:\n","    letter = \"F\"\n","\n","print(f\"Your score is {score} which is a grade {letter}.\")\n"]},{"cell_type":"markdown","metadata":{"id":"_Pcc1jYqEKct"},"source":["---\n","\n","## 🤔 Reflection Questions\n","\n","After completing the exercises, reflect on these questions:\n","\n","1. **Problem Solving**: How did breaking down problems into smaller steps help you?\n","\n","2. **Pseudocode vs. Code**: What was the difference between writing pseudocode and actual Python code?\n","\n","3. **Debugging**: What errors did you encounter, and how did you fix them?\n","\n","4. **Computational Thinking**: How can you apply these problem-solving skills to other areas of your life?\n","\n","**Write your reflections below:**\n"]},{"cell_type":"markdown","metadata":{"id":"VTQQjCOxEKct"},"source":["**Your Reflections:**\n","\n","1. Problem Solving:\n","\n","2. Pseudocode vs. Code:\n","\n","3. Debugging:\n","\n","4. Computational Thinking:\n"]},{"cell_type":"markdown","metadata":{"id":"qIEyZ0NxEKct"},"source":["---\n","\n","## 📚 Additional Resources\n","\n","- [Python.org Official Tutorial](https://docs.python.org/3/tutorial/)\n","- [Computational Thinking Concepts](https://www.cs.cmu.edu/~15110-s13/Wing06-ct.pdf)\n","- [Algorithm Design Techniques](https://www.geeksforgeeks.org/fundamentals-of-algorithms/)\n","\n","---\n","\n","## ✅ What's Next?\n","\n","In the next class, we'll cover:\n","- Data types and variables in more detail\n","- Loops and iterations\n","- Functions and code organization\n","- Working with lists and basic data structures\n","\n","**Great job completing Day 1! 🎉**\n"]}],"metadata":{"language_info":{"name":"python"},"colab":{"provenance":[]},"kernelspec":{"name":"python3","display_name":"Python 3"}},"nbformat":4,"nbformat_minor":0}
>>>>>>> Stashed changes
